{
 "cells": [
  {
   "cell_type": "markdown",
   "metadata": {},
   "source": [
    "### Game Manual (2025)\n",
    "https://robonation.gitbook.io/roboboat-resources"
   ]
  },
  {
   "cell_type": "markdown",
   "metadata": {},
   "source": [
    "#### 1. Game elements\n",
    "https://robonation.gitbook.io/roboboat-resources/section-3-autonomy-challenge/3.2-task-descriptions#task-elements-3\n"
   ]
  }
 ],
 "metadata": {
  "language_info": {
   "name": "python"
  }
 },
 "nbformat": 4,
 "nbformat_minor": 2
}
