{
 "cells": [
  {
   "cell_type": "markdown",
   "metadata": {},
   "source": [
    "# Setting Up a Virtual Environment in Python\n",
    "\n",
    "A virtual environment (venv) is used to isolate project dependencies, so that different projects can have different dependencies, and you avoid conflicts between them. This is especially important when working with Python libraries that can have different versions.\n",
    "\n",
    "## 1. Install Python\n",
    "Ensure that Python is installed on your machine. You can check if Python is installed by running:\n",
    "\n",
    "```bash\n",
    "python --version\n"
   ]
  },
  {
   "cell_type": "code",
   "execution_count": 4,
   "metadata": {},
   "outputs": [
    {
     "name": "stdout",
     "output_type": "stream",
     "text": [
      "Python 3.11.0\n"
     ]
    }
   ],
   "source": [
    "# For windows\n",
    "!python --version   # Shows in-use version\n",
    "!py --version       # Shows your latest installed version\n",
    "\n",
    "   \n",
    "# !python3 --version  # For Linux; change '3' to your current version."
   ]
  },
  {
   "cell_type": "markdown",
   "metadata": {},
   "source": [
    "## 2. Install `virtualenv` (Optional)\n",
    "Python 3.3 and above comes with `venv` module by default. However, if you need more control over virtual environments, you can install `virtualenv`:\n",
    "\n",
    "```bash\n",
    "pip install virtualenv\n"
   ]
  },
  {
   "cell_type": "code",
   "execution_count": null,
   "metadata": {},
   "outputs": [],
   "source": [
    "%pip install virtualenv"
   ]
  },
  {
   "cell_type": "markdown",
   "metadata": {},
   "source": [
    "## 3. Create a Virtual Environment\n",
    "To create a virtual environment in a specific folder, navigate to the folder in your terminal and run:\n",
    "\n",
    "```bash\n",
    "python -m venv venv_name\n"
   ]
  },
  {
   "cell_type": "code",
   "execution_count": null,
   "metadata": {},
   "outputs": [],
   "source": [
    "!python -m venv <env_name>   # Change 'myenv' to what you want.\n",
    "\n",
    "# !py -3.11 -m <env_name>     # Create venv with a specific version (ex: python3.11)."
   ]
  },
  {
   "cell_type": "markdown",
   "metadata": {},
   "source": [
    "## 4. Activate the Virtual Environment\n",
    "Once the virtual environment is created, you need to activate it.\n",
    "\n",
    "- **On macOS/Linux**:\n",
    "  ```bash\n",
    "  source venv_name/bin/activate\n",
    "\n",
    "- **On Windows** (some Windows use 'Scripts' instead of 'bin'):\n",
    "  ```bash\n",
    "  venv_name/bin/activate\n",
    "  venv_name/Scripts/activate\n"
   ]
  },
  {
   "cell_type": "code",
   "execution_count": null,
   "metadata": {},
   "outputs": [],
   "source": [
    "# On Windows\n",
    "%myenv\\Scripts\\activate\n",
    "\n",
    "# On macOS/Linux\n",
    "# %source myenv/bin/activate"
   ]
  },
  {
   "cell_type": "markdown",
   "metadata": {},
   "source": [
    "## 5. Install Project Dependencies\n",
    "With the virtual environment activated, you can now install the project dependencies. If your project has a `requirements.txt` file (usually found in repositories), install the required packages by running:\n",
    "\n",
    "```bash\n",
    "pip install -r requirements.txt\n"
   ]
  },
  {
   "cell_type": "code",
   "execution_count": null,
   "metadata": {},
   "outputs": [
    {
     "name": "stdout",
     "output_type": "stream",
     "text": [
      "Requirement already satisfied: package_name in c:\\users\\101173468\\desktop\\pyrealsense project\\lib\\site-packages (0.1)\n",
      "Note: you may need to restart the kernel to use updated packages.\n"
     ]
    }
   ],
   "source": [
    "# Run this if you have a requirements.txt\n",
    "# %pip install -r requirements.txt  \n",
    "\n",
    "# Or to install a package individually:\n",
    "%pip install package_name"
   ]
  },
  {
   "cell_type": "markdown",
   "metadata": {},
   "source": [
    "## 6. Using Virtual Environment in IDEs\n",
    "To make sure your IDE is using the virtual environment as the Python interpreter:\n",
    "- **VSCode**: Open Command Palette (`Ctrl+Shift+P`), search for \"Python: Select Interpreter\", and select your virtual environment.\n",
    "- **PyCharm**: Go to Settings > Project > Project Interpreter, and select your virtual environment.\n"
   ]
  },
  {
   "cell_type": "markdown",
   "metadata": {},
   "source": [
    "## 7. Creating and Freezing Dependencies\n",
    "To save the current dependencies in your virtual environment to a `requirements.txt` file, run:\n",
    "\n",
    "```bash\n",
    "pip freeze > requirements.txt\n",
    "```\n",
    "\n",
    "This also update your requirements.txt file whenever you install new packages or update existing ones."
   ]
  },
  {
   "cell_type": "code",
   "execution_count": 1,
   "metadata": {},
   "outputs": [],
   "source": [
    "!pip freeze > requirements.txt"
   ]
  },
  {
   "cell_type": "markdown",
   "metadata": {},
   "source": [
    "## 8. Deactivate the Virtual Environment\n",
    "When you're done working, you can deactivate the virtual environment by running:\n",
    "\n",
    "```bash\n",
    "deactivate\n"
   ]
  },
  {
   "cell_type": "code",
   "execution_count": null,
   "metadata": {},
   "outputs": [],
   "source": [
    "!deactivate             # For Windows\n",
    "# !source deactivate      # For Linux/macOS"
   ]
  },
  {
   "cell_type": "markdown",
   "metadata": {},
   "source": [
    "## Tips\n",
    "- **Version Control**: It's common to add the virtual environment folder (like `venv` or `myenv`) to `.gitignore` to avoid pushing it to version control.\n",
    "- **Upgrading `pip`**: To ensure that you're using the latest version of `pip` inside your virtual environment, run:\n",
    "\n",
    "  ```bash\n",
    "  pip install --upgrade pip\n"
   ]
  },
  {
   "cell_type": "code",
   "execution_count": null,
   "metadata": {},
   "outputs": [],
   "source": [
    "%pip install --upgrade pip              # For Windows\n",
    "%python3 -m pip install --upgrade pip   # For Linux/macOS"
   ]
  },
  {
   "cell_type": "markdown",
   "metadata": {},
   "source": [
    "* Verify Installation: To check which Python interpreter is being used, run:"
   ]
  },
  {
   "cell_type": "code",
   "execution_count": 2,
   "metadata": {},
   "outputs": [
    {
     "name": "stdout",
     "output_type": "stream",
     "text": [
      "c:\\Users\\101173468\\Desktop\\Pyrealsense Project\\Scripts\\python.exe\n",
      "C:\\Users\\101173468\\AppData\\Local\\Programs\\Python\\Python311\\python.exe\n",
      "C:\\Users\\101173468\\AppData\\Local\\Microsoft\\WindowsApps\\python.exe\n"
     ]
    },
    {
     "name": "stderr",
     "output_type": "stream",
     "text": [
      "INFO: Could not find \"#\".\n",
      "INFO: Could not find \"For\".\n",
      "INFO: Could not find \"Windows\".\n"
     ]
    }
   ],
   "source": [
    "!where python   # For Windows\n",
    "# !which python   # For Linux/macOS"
   ]
  },
  {
   "cell_type": "markdown",
   "metadata": {},
   "source": [
    "## Other resources that may be helpful:\n",
    "\n",
    "#### Pyrealsense\n",
    "* Documentation: https://dev.intelrealsense.com/docs/docs-get-started\n",
    "* Code Reference: https://pyrealsense.readthedocs.io/en/master/\n",
    "\n",
    "#### OpenCV\n",
    "* Modules: https://docs.opencv.org/4.x/index.html\n",
    "* Additional Modules: https://github.com/opencv/opencv_contrib\n",
    "* Tutorials: https://docs.opencv.org/4.x/d6/d00/tutorial_py_root.html\n",
    "\n",
    "#### Tutorial Videos\n",
    "* Connect Intel Realsense with Python and OpenCV: https://youtu.be/CmDO-w56qso?si=JGY6tKSGTsswSK_V"
   ]
  },
  {
   "cell_type": "markdown",
   "metadata": {},
   "source": []
  },
  {
   "cell_type": "markdown",
   "metadata": {},
   "source": []
  },
  {
   "cell_type": "markdown",
   "metadata": {},
   "source": []
  }
 ],
 "metadata": {
  "kernelspec": {
   "display_name": "Pyrealsense Project",
   "language": "python",
   "name": "python3"
  },
  "language_info": {
   "codemirror_mode": {
    "name": "ipython",
    "version": 3
   },
   "file_extension": ".py",
   "mimetype": "text/x-python",
   "name": "python",
   "nbconvert_exporter": "python",
   "pygments_lexer": "ipython3",
   "version": "3.11.0"
  }
 },
 "nbformat": 4,
 "nbformat_minor": 2
}
